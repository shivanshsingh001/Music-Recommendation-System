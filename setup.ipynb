{
 "cells": [
  {
   "cell_type": "code",
   "execution_count": null,
   "metadata": {},
   "outputs": [],
   "source": [
    "import os\n",
    "import urllib.request\n",
    "from zipfile import ZipFile\n",
    "\n",
    "HOME_DIRECTORY = os.path.join('datasets','raw')\n",
    "ROOT_URL = 'https://os.unil.cloud.switch.ch/fma/fma_metadata.zip'\n",
    "\n",
    "if not os.path.isdir(HOME_DIRECTORY):\n",
    "    os.makedirs(HOME_DIRECTORY)\n",
    "zip_path = os.path.join(HOME_DIRECTORY, 'data.zip')\n",
    "urllib.request.urlretrieve(ROOT_URL, zip_path)\n",
    "\n",
    "with ZipFile(zip_path, 'r') as zip:\n",
    "    zip.extractall(HOME_DIRECTORY)\n",
    "    print(\"Done!\")"
   ]
  },
  {
   "cell_type": "code",
   "execution_count": null,
   "metadata": {},
   "outputs": [],
   "source": []
  },
  {
   "cell_type": "code",
   "execution_count": null,
   "metadata": {},
   "outputs": [],
   "source": []
  }
 ],
 "metadata": {
  "kernelspec": {
   "display_name": "Python 3",
   "language": "python",
   "name": "python3"
  },
  "language_info": {
   "codemirror_mode": {
    "name": "ipython",
    "version": 3
   },
   "file_extension": ".py",
   "mimetype": "text/x-python",
   "name": "python",
   "nbconvert_exporter": "python",
   "pygments_lexer": "ipython3",
   "version": "3.8.5"
  }
 },
 "nbformat": 4,
 "nbformat_minor": 4
}
